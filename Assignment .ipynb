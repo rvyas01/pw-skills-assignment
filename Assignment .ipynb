{
 "cells": [
  {
   "cell_type": "code",
   "execution_count": null,
   "id": "134272a9-bac5-4af3-ad97-d512497132b2",
   "metadata": {},
   "outputs": [],
   "source": [
    "def odd_numbers():\n",
    "    return [num for num in range(1, 26) if num % 2 != 0]\n",
    "\n",
    "print(odd_numbers())\n"
   ]
  },
  {
   "cell_type": "code",
   "execution_count": null,
   "id": "591813cc-79a7-43f4-b347-ff3a14c190ce",
   "metadata": {},
   "outputs": [],
   "source": [
    "def sum_all(*args):\n",
    "    return sum(args)\n",
    "\n",
    "print(sum_all(1, 2, 3, 4))\n"
   ]
  },
  {
   "cell_type": "code",
   "execution_count": null,
   "id": "349d8ac0-d79e-461e-8550-f47291ecad1d",
   "metadata": {},
   "outputs": [],
   "source": [
    "my_list = [2, 4, 6, 8, 10, 12, 14, 16, 18, 20]\n",
    "iterator = iter(my_list)\n",
    "\n",
    "for _ in range(5):\n",
    "    print(next(iterator))\n"
   ]
  },
  {
   "cell_type": "code",
   "execution_count": null,
   "id": "688e4215-6249-4917-a62d-4218055d8475",
   "metadata": {},
   "outputs": [],
   "source": [
    "def simple_generator():\n",
    "    for i in range(5):\n",
    "        yield i\n",
    "\n",
    "gen = simple_generator()\n",
    "for val in gen:\n",
    "    print(val)\n"
   ]
  },
  {
   "cell_type": "code",
   "execution_count": null,
   "id": "1c4bebd4-975d-49a8-a508-f8693088e221",
   "metadata": {},
   "outputs": [],
   "source": [
    "def prime_generator(limit):\n",
    "    for num in range(2, limit):\n",
    "        if all(num % div != 0 for div in range(2, int(num ** 0.5) + 1)):\n",
    "            yield num\n",
    "\n",
    "primes = prime_generator(1000)\n",
    "for _ in range(20):\n",
    "    print(next(primes))\n"
   ]
  },
  {
   "cell_type": "code",
   "execution_count": null,
   "id": "8e9a535f-8265-40e5-8474-6ff7a468c32d",
   "metadata": {},
   "outputs": [],
   "source": [
    "a, b = 0, 1\n",
    "count = 0\n",
    "while count < 10:\n",
    "    print(a)\n",
    "    a, b = b, a + b\n",
    "    count += 1\n"
   ]
  },
  {
   "cell_type": "code",
   "execution_count": null,
   "id": "05de0f58-9b82-4ed5-9821-46ba26ce4a2f",
   "metadata": {},
   "outputs": [],
   "source": [
    "string = 'pwskills'\n",
    "output = [char for char in string if char in 'pwskills']\n",
    "print(output)\n"
   ]
  },
  {
   "cell_type": "code",
   "execution_count": null,
   "id": "21a302f0-a387-45e7-858f-9ed9cc46f299",
   "metadata": {},
   "outputs": [],
   "source": [
    "def is_palindrome(num):\n",
    "    original = num\n",
    "    reverse = 0\n",
    "    while num > 0:\n",
    "        reverse = reverse * 10 + num % 10\n",
    "        num //= 10\n",
    "    return original == reverse\n",
    "\n",
    "print(is_palindrome(121))  # True\n",
    "print(is_palindrome(123))  # False\n"
   ]
  },
  {
   "cell_type": "code",
   "execution_count": null,
   "id": "3ec77e89-d50e-4436-ba3f-31ff2a963fb9",
   "metadata": {},
   "outputs": [],
   "source": [
    "numbers = [num for num in range(1, 101)]\n",
    "odd_numbers = [num for num in numbers if num % 2 != 0]\n",
    "print(odd_numbers)\n"
   ]
  }
 ],
 "metadata": {
  "kernelspec": {
   "display_name": "Python 3 (ipykernel)",
   "language": "python",
   "name": "python3"
  },
  "language_info": {
   "codemirror_mode": {
    "name": "ipython",
    "version": 3
   },
   "file_extension": ".py",
   "mimetype": "text/x-python",
   "name": "python",
   "nbconvert_exporter": "python",
   "pygments_lexer": "ipython3",
   "version": "3.10.8"
  }
 },
 "nbformat": 4,
 "nbformat_minor": 5
}
