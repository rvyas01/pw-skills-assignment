{
 "cells": [
  {
   "cell_type": "code",
   "execution_count": null,
   "id": "0b78ed48-db9b-48f7-9fbd-66db01e9a425",
   "metadata": {},
   "outputs": [],
   "source": [
    "Q1 \n",
    "\n",
    "For Loop:\n",
    "\n",
    "Use a for loop when you know the number of iterations beforehand or when iterating over a sequence (like a list, tuple, string, etc.). For loops are particularly useful when you need to execute a block of code a fixed number of times.\n",
    "Example:\n",
    "python\n",
    "Copy code\n",
    "fruits = [\"apple\", \"banana\", \"cherry\"]\n",
    "for fruit in fruits:\n",
    "    print(fruit)\n",
    "While Loop:\n",
    "\n",
    "Use a while loop when you want to execute a block of code repeatedly until a condition becomes false. While loops are suitable when the number of iterations is not known in advance.\n",
    "Example:\n",
    "python\n",
    "Copy code\n",
    "i = 0\n",
    "while i < 5:\n",
    "    print(i)\n",
    "    i += 1"
   ]
  },
  {
   "cell_type": "code",
   "execution_count": null,
   "id": "597679ce-579b-4402-a53d-418633f49b51",
   "metadata": {},
   "outputs": [],
   "source": [
    "Q2 \n",
    "\n",
    "# Using for loop\n",
    "sum_for = 0\n",
    "product_for = 1\n",
    "for num in range(1, 11):\n",
    "    sum_for += num\n",
    "    product_for *= num\n",
    "print(\"Sum using for loop:\", sum_for)\n",
    "print(\"Product using for loop:\", product_for)\n",
    "\n",
    "# Using while loop\n",
    "sum_while = 0\n",
    "product_while = 1\n",
    "num = 1\n",
    "while num <= 10:\n",
    "    sum_while += num\n",
    "    product_while *= num\n",
    "    num += 1\n",
    "print(\"Sum using while loop:\", sum_while)\n",
    "print(\"Product using while loop:\", product_while)\n"
   ]
  },
  {
   "cell_type": "code",
   "execution_count": null,
   "id": "0b0508b2-2d0b-40d2-b786-ca09a3281a4a",
   "metadata": {},
   "outputs": [],
   "source": [
    "Q3\n",
    "\n",
    "units_consumed = int(input(\"Enter the units of electricity consumed: \"))\n",
    "\n",
    "if units_consumed <= 100:\n",
    "    bill = units_consumed * 4.5\n",
    "elif units_consumed <= 200:\n",
    "    bill = 100 * 4.5 + (units_consumed - 100) * 6\n",
    "elif units_consumed <= 300:\n",
    "    bill = 100 * 4.5 + 100 * 6 + (units_consumed - 200) * 10\n",
    "else:\n",
    "    bill = 100 * 4.5 + 100 * 6 + 100 * 10 + (units_consumed - 300) * 20\n",
    "\n",
    "print(\"Electricity bill:\", bill)\n"
   ]
  },
  {
   "cell_type": "code",
   "execution_count": null,
   "id": "587a18c5-90bf-43e0-ba03-4bed6216e024",
   "metadata": {},
   "outputs": [],
   "source": [
    "Q4 \n",
    "\n",
    "cubes_divisible = []\n",
    "\n",
    "# Using for loop\n",
    "for num in range(1, 101):\n",
    "    cube = num ** 3\n",
    "    if cube % 4 == 0 or cube % 5 == 0:\n",
    "        cubes_divisible.append(num)\n",
    "\n",
    "print(\"Using for loop:\", cubes_divisible)\n",
    "\n",
    "# Using while loop\n",
    "cubes_divisible_while = []\n",
    "num = 1\n",
    "while num <= 100:\n",
    "    cube = num ** 3\n",
    "    if cube % 4 == 0 or cube % 5 == 0:\n",
    "        cubes_divisible_while.append(num)\n",
    "    num += 1\n",
    "\n",
    "print(\"Using while loop:\", cubes_divisible_while)\n"
   ]
  },
  {
   "cell_type": "code",
   "execution_count": null,
   "id": "791aa6b6-e03b-4ea9-8090-be1c999c5a3e",
   "metadata": {},
   "outputs": [],
   "source": [
    "Q5 \n",
    "\n",
    "string = \"I want to become a data scientist\"\n",
    "vowels = 'aeiouAEIOU'\n",
    "count = sum(1 for char in string if char in vowels)\n",
    "print(\"Count of vowels:\", count)\n"
   ]
  }
 ],
 "metadata": {
  "kernelspec": {
   "display_name": "Python 3 (ipykernel)",
   "language": "python",
   "name": "python3"
  },
  "language_info": {
   "codemirror_mode": {
    "name": "ipython",
    "version": 3
   },
   "file_extension": ".py",
   "mimetype": "text/x-python",
   "name": "python",
   "nbconvert_exporter": "python",
   "pygments_lexer": "ipython3",
   "version": "3.10.8"
  }
 },
 "nbformat": 4,
 "nbformat_minor": 5
}
